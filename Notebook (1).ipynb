{
  "metadata": {
    "kernelspec": {
      "name": "python",
      "display_name": "Python (Pyodide)",
      "language": "python"
    },
    "language_info": {
      "codemirror_mode": {
        "name": "python",
        "version": 3
      },
      "file_extension": ".py",
      "mimetype": "text/x-python",
      "name": "python",
      "nbconvert_exporter": "python",
      "pygments_lexer": "ipython3",
      "version": "3.8"
    }
  },
  "nbformat_minor": 4,
  "nbformat": 4,
  "cells": [
    {
      "cell_type": "markdown",
      "source": "# Data science tools and Ecosystem",
      "metadata": {}
    },
    {
      "cell_type": "markdown",
      "source": "In this notebook , data science tools and Ecosystem are summerized",
      "metadata": {}
    },
    {
      "cell_type": "markdown",
      "source": "Some of the populare data sciencists languages are:\n\n\n    1-Python\n    2-R\n    3-Scala\n    4-SQL\n    5-Java\n    6-Julia\n    7-C++\n    8-Javascript\n    9-PhP\n    10-Ruby\n    11-GO\n    12-VisualBasic\n    ",
      "metadata": {}
    },
    {
      "cell_type": "markdown",
      "source": "Some of the commenly used libraries by data scientists :\n1-Pandas\n2-Seaborn\n3-matplotlib\n4-Scikit-learn",
      "metadata": {}
    },
    {
      "cell_type": "markdown",
      "source": "# Data science tools ",
      "metadata": {}
    },
    {
      "cell_type": "markdown",
      "source": "Anaconda",
      "metadata": {}
    },
    {
      "cell_type": "markdown",
      "source": "Jupyter Notebook",
      "metadata": {}
    },
    {
      "cell_type": "markdown",
      "source": "R studio",
      "metadata": {}
    },
    {
      "cell_type": "raw",
      "source": "Spyder",
      "metadata": {}
    },
    {
      "cell_type": "markdown",
      "source": "Zepplin",
      "metadata": {}
    },
    {
      "cell_type": "markdown",
      "source": "Below are a few examples of evaluating arithmetic expresions in Python ",
      "metadata": {}
    },
    {
      "cell_type": "code",
      "source": "##the multiplication of 2 and 10 and the sum with 10 gives 30\n2*10+10",
      "metadata": {
        "trusted": true
      },
      "outputs": [
        {
          "execution_count": 6,
          "output_type": "execute_result",
          "data": {
            "text/plain": "30"
          },
          "metadata": {}
        }
      ],
      "execution_count": 6
    },
    {
      "cell_type": "code",
      "source": "#hours to minutes\n1/60",
      "metadata": {
        "trusted": true
      },
      "outputs": [
        {
          "execution_count": 8,
          "output_type": "execute_result",
          "data": {
            "text/plain": "0.016666666666666666"
          },
          "metadata": {}
        }
      ],
      "execution_count": 8
    },
    {
      "cell_type": "markdown",
      "source": "# Objectives",
      "metadata": {}
    },
    {
      "cell_type": "markdown",
      "source": "    -Add commentsto code cell\n    -Create markdown cells\n    -Add ordered and Unordered lists to markdown cells\n    -Format content of markdown cells with heading styles\n",
      "metadata": {}
    },
    {
      "cell_type": "markdown",
      "source": "# Authors",
      "metadata": {}
    },
    {
      "cell_type": "markdown",
      "source": "    Lakshmi Holia\n    Nivenditha Pandith ",
      "metadata": {}
    },
    {
      "cell_type": "code",
      "source": "",
      "metadata": {
        "trusted": true
      },
      "outputs": [],
      "execution_count": null
    }
  ]
}